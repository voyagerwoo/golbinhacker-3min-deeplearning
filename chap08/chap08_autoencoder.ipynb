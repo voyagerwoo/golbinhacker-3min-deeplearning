{
 "cells": [
  {
   "cell_type": "markdown",
   "metadata": {},
   "source": [
    "# 비지도학습 Unsupervised learning\n",
    "\n",
    "입력값으로부터 데이터의 특징을 찾아내는 학습방법으로 대표적으로 오토인코더가 있다.\n",
    "\n",
    "## 오토인코더 Autoencoder\n",
    "\n",
    "- 입력값과 출력값을 같게 하는 신경망\n",
    "- 가운데 계층의 노드 수가 입력값보다 적은 것이 특징\n",
    "- 데이터 압축 효과, 토이즈 제거 효과\n",
    "\n",
    "## 오토인코더 동작 원리\n",
    "\n",
    "- 입력층으로 들어온 데이터를 인코더를 통해 은닉층으로 보냄\n",
    "- 은닉층의 데이터를 디코더를 통해 출력층으로 보냄\n",
    "- 출력갑과 입력값이 같아지도록 weight & bias 업데이트\n",
    "\n",
    "## 오토인코더 종류\n",
    "- 변이형 오토인코더 Variational Autoencoder\n",
    "- 잡음제거 오토인코더 Denoising Autoencoder\n"
   ]
  },
  {
   "cell_type": "code",
   "execution_count": 15,
   "metadata": {},
   "outputs": [
    {
     "name": "stdout",
     "output_type": "stream",
     "text": [
      "Extracting ./mnist/data/train-images-idx3-ubyte.gz\n",
      "Extracting ./mnist/data/train-labels-idx1-ubyte.gz\n",
      "Extracting ./mnist/data/t10k-images-idx3-ubyte.gz\n",
      "Extracting ./mnist/data/t10k-labels-idx1-ubyte.gz\n"
     ]
    }
   ],
   "source": [
    "import tensorflow as tf\n",
    "import numpy as np\n",
    "import matplotlib.pyplot as plt\n",
    "\n",
    "from tensorflow.examples.tutorials.mnist import input_data\n",
    "mnist = input_data.read_data_sets(\"./mnist/data/\", one_hot=True)"
   ]
  },
  {
   "cell_type": "code",
   "execution_count": 16,
   "metadata": {},
   "outputs": [],
   "source": [
    "# 하이퍼 파라미터 따로 빼기\n",
    "\n",
    "learning_rate = 0.01\n",
    "training_epoch = 20\n",
    "batch_size = 100\n",
    "n_hidden = 256\n",
    "n_input = 28*28 # n_input > n_hidden"
   ]
  },
  {
   "cell_type": "code",
   "execution_count": 17,
   "metadata": {},
   "outputs": [
    {
     "name": "stdout",
     "output_type": "stream",
     "text": [
      "Tensor(\"Sigmoid_5:0\", shape=(?, 256), dtype=float32)\n"
     ]
    }
   ],
   "source": [
    "# 인코더 부분\n",
    "X = tf.placeholder(tf.float32, [None, n_input])\n",
    "W_encode = tf.Variable(tf.random_normal([n_input, n_hidden]))\n",
    "b_encode = tf.Variable(tf.random_normal([n_hidden]))\n",
    "\n",
    "encoder = tf.nn.sigmoid(tf.add(tf.matmul(X, W_encode), b_encode))\n",
    "print(encoder)"
   ]
  },
  {
   "cell_type": "code",
   "execution_count": 18,
   "metadata": {},
   "outputs": [
    {
     "name": "stdout",
     "output_type": "stream",
     "text": [
      "Tensor(\"Sigmoid_6:0\", shape=(?, 784), dtype=float32)\n"
     ]
    }
   ],
   "source": [
    "# 디코더 부분\n",
    "\n",
    "W_decode = tf.Variable(tf.random_normal([n_hidden, n_input]))\n",
    "b_decode = tf.Variable(tf.random_normal([n_input]))\n",
    "\n",
    "decoder = tf.nn.sigmoid(tf.add(tf.matmul(encoder, W_decode), b_decode))\n",
    "print(decoder)"
   ]
  },
  {
   "cell_type": "code",
   "execution_count": 19,
   "metadata": {},
   "outputs": [],
   "source": [
    "cost = tf.reduce_mean(tf.pow(X - decoder, 2))\n",
    "optimizer = tf.train.RMSPropOptimizer(learning_rate).minimize(cost)"
   ]
  },
  {
   "cell_type": "code",
   "execution_count": 22,
   "metadata": {},
   "outputs": [
    {
     "name": "stdout",
     "output_type": "stream",
     "text": [
      "Epoch: 0001 Avg. cost = 0.1839\n",
      "Epoch: 0002 Avg. cost = 0.0458\n",
      "Epoch: 0003 Avg. cost = 0.0365\n",
      "Epoch: 0004 Avg. cost = 0.0314\n",
      "Epoch: 0005 Avg. cost = 0.0292\n",
      "Epoch: 0006 Avg. cost = 0.0280\n",
      "Epoch: 0007 Avg. cost = 0.0269\n",
      "Epoch: 0008 Avg. cost = 0.0261\n",
      "Epoch: 0009 Avg. cost = 0.0255\n",
      "Epoch: 0010 Avg. cost = 0.0250\n",
      "Epoch: 0011 Avg. cost = 0.0244\n",
      "Epoch: 0012 Avg. cost = 0.0238\n",
      "Epoch: 0013 Avg. cost = 0.0234\n",
      "Epoch: 0014 Avg. cost = 0.0227\n",
      "Epoch: 0015 Avg. cost = 0.0224\n",
      "Epoch: 0016 Avg. cost = 0.0220\n",
      "Epoch: 0017 Avg. cost = 0.0208\n",
      "Epoch: 0018 Avg. cost = 0.0201\n",
      "Epoch: 0019 Avg. cost = 0.0200\n",
      "Epoch: 0020 Avg. cost = 0.0196\n"
     ]
    }
   ],
   "source": [
    "init = tf.global_variables_initializer()\n",
    "sess = tf.Session()\n",
    "sess.run(init)\n",
    "\n",
    "total_batch = int(mnist.train.num_examples / batch_size)\n",
    "\n",
    "for epoch in range(training_epoch):\n",
    "    total_cost = 0\n",
    "    \n",
    "    for i in range(total_batch):\n",
    "        batch_xs, batch_ys = mnist.train.next_batch(batch_size)\n",
    "        _, cost_val = sess.run([optimizer, cost], feed_dict={X: batch_xs})\n",
    "        total_cost += cost_val\n",
    "    \n",
    "    epoch_str = '{:04d}'.format(epoch+1)\n",
    "    average_cost = '{:.4f}'.format(total_cost / total_batch)\n",
    "    print(f'Epoch: {epoch_str} Avg. cost = {average_cost}')"
   ]
  },
  {
   "cell_type": "code",
   "execution_count": 24,
   "metadata": {},
   "outputs": [
    {
     "data": {
      "image/png": "[encoded data removed]",
      "text/plain": [
       "<matplotlib.figure.Figure at 0x1c279c4dd8>"
      ]
     },
     "metadata": {},
     "output_type": "display_data"
    }
   ],
   "source": [
    "sample_size = 10\n",
    "\n",
    "samples = sess.run(decoder, feed_dict={X: mnist.test.images[:sample_size]})\n",
    "\n",
    "fig, ax = plt.subplots(2, sample_size, figsize=(sample_size, 2))\n",
    "\n",
    "for i in range(sample_size):\n",
    "    ax[0][i].set_axis_off()\n",
    "    ax[1][i].set_axis_off()\n",
    "    \n",
    "    ax[0][i].imshow(np.reshape(mnist.test.images[i], (28, 28)))\n",
    "    ax[1][i].imshow(np.reshape(samples[i], (28, 28)))\n",
    "\n",
    "plt.show()"
   ]
  },
  {
   "cell_type": "code",
   "execution_count": null,
   "metadata": {},
   "outputs": [],
   "source": []
  }
 ],
 "metadata": {
  "kernelspec": {
   "display_name": "Python 3",
   "language": "python",
   "name": "python3"
  },
  "language_info": {
   "codemirror_mode": {
    "name": "ipython",
    "version": 3
   },
   "file_extension": ".py",
   "mimetype": "text/x-python",
   "name": "python",
   "nbconvert_exporter": "python",
   "pygments_lexer": "ipython3",
   "version": "3.6.4"
  }
 },
 "nbformat": 4,
 "nbformat_minor": 2
}
