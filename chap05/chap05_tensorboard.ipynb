{
 "cells": [
  {
   "cell_type": "code",
   "execution_count": 1,
   "metadata": {},
   "outputs": [],
   "source": [
    "import tensorflow as tf\n",
    "import numpy as np"
   ]
  },
  {
   "cell_type": "markdown",
   "metadata": {},
   "source": [
    "## 특이사항\n",
    "\n",
    "- `tf.summary.scala` & `tf.summary.histogram` 이 어떻게 동작하는지.. `scala`는 안되다가 어쩌다가 되고, `histogram`은 안됨..\n",
    "- 모델을 바꾸면 `tf.summary`에도 영향을 주는 듯함 "
   ]
  },
  {
   "cell_type": "code",
   "execution_count": 2,
   "metadata": {},
   "outputs": [],
   "source": [
    "data = np.loadtxt('./data.csv', delimiter=',', unpack=True, dtype='float32')\n",
    "x_data = np.transpose(data[0:2])\n",
    "y_data = np.transpose(data[2:])\n",
    "\n",
    "global_step = tf.Variable(0, trainable=False, name='global_step')\n",
    "\n",
    "X = tf.placeholder(tf.float32)\n",
    "Y = tf.placeholder(tf.float32)"
   ]
  },
  {
   "cell_type": "code",
   "execution_count": 3,
   "metadata": {},
   "outputs": [
    {
     "name": "stdout",
     "output_type": "stream",
     "text": [
      "WARNING:tensorflow:From <ipython-input-3-3252d5694c70>:14: softmax_cross_entropy_with_logits (from tensorflow.python.ops.nn_ops) is deprecated and will be removed in a future version.\n",
      "Instructions for updating:\n",
      "\n",
      "Future major versions of TensorFlow will allow gradients to flow\n",
      "into the labels input on backprop by default.\n",
      "\n",
      "See tf.nn.softmax_cross_entropy_with_logits_v2.\n",
      "\n"
     ]
    }
   ],
   "source": [
    "with tf.name_scope('layer1'):\n",
    "    W1 = tf.Variable(tf.random_uniform([2, 10], -1., 1.), name='W1')\n",
    "    L1 = tf.nn.relu(tf.matmul(X, W1))\n",
    "\n",
    "with tf.name_scope('layer2'):\n",
    "    W2 = tf.Variable(tf.random_uniform([10, 20], -1., 1.), name='W2')\n",
    "    L2 = tf.nn.relu(tf.matmul(L1, W2))\n",
    "\n",
    "with tf.name_scope('output'):\n",
    "    W3 = tf.Variable(tf.random_uniform([20, 3], -1., 1.), name='W3')\n",
    "    model = tf.matmul(L2, W3)\n",
    "\n",
    "with tf.name_scope('optimizer'):\n",
    "    cost = tf.reduce_mean(tf.nn.softmax_cross_entropy_with_logits(labels=Y, logits=model))\n",
    "    optimizer = tf.train.AdamOptimizer(learning_rate=0.01)\n",
    "    train_op = optimizer.minimize(cost, global_step=global_step)"
   ]
  },
  {
   "cell_type": "markdown",
   "metadata": {},
   "source": [
    "- `with tf.name_scope('layer1')` : 이렇게 묶인 블록은 한 계층 내부를 표현.\n",
    "- `tf.Variable`의 name parameter : 텐서보드에서 해당 이름의 변수가 어디서 사용되는지 쉽게 확인할 수 있음"
   ]
  },
  {
   "cell_type": "code",
   "execution_count": 4,
   "metadata": {},
   "outputs": [
    {
     "data": {
      "text/plain": [
       "<tf.Tensor 'Weights:0' shape=() dtype=string>"
      ]
     },
     "execution_count": 4,
     "metadata": {},
     "output_type": "execute_result"
    }
   ],
   "source": [
    "# 손실값을 추적하기 위한 코드\n",
    "tf.summary.scalar('cost', cost)\n",
    "tf.summary.histogram('Weights', W1)"
   ]
  },
  {
   "cell_type": "markdown",
   "metadata": {},
   "source": [
    "- `tf.summary.scalar` : 값이 하나인 텐서를 수집할 때 사용하는 코드"
   ]
  },
  {
   "cell_type": "code",
   "execution_count": 9,
   "metadata": {},
   "outputs": [
    {
     "name": "stdout",
     "output_type": "stream",
     "text": [
      "INFO:tensorflow:Restoring parameters from ./tb_model/dnn.ckpt-200\n"
     ]
    }
   ],
   "source": [
    "sess = tf.Session()\n",
    "saver = tf.train.Saver(tf.global_variables())\n",
    "\n",
    "ckpt = tf.train.get_checkpoint_state('./tb_model')\n",
    "if ckpt and tf.train.checkpoint_exists(ckpt.model_checkpoint_path):\n",
    "    try : \n",
    "        saver.restore(sess, ckpt.model_checkpoint_path)\n",
    "    except tf.errors.NotFoundError as e:\n",
    "        print(\"remove a model directory because of NotFoundError!\")\n",
    "        !rm -rf ./tb_model\n",
    "        sess.run(tf.global_variables_initializer())\n",
    "else: \n",
    "    sess.run(tf.global_variables_initializer())"
   ]
  },
  {
   "cell_type": "markdown",
   "metadata": {},
   "source": [
    "책 87쪽 노트에 보면 model이 달라졌을 때, 모델을 불러오면 에러가 나는 것을 알 수 있다. 그래서 나는 에러가 났을 경우에 모델 디렉토리를 삭제하는 매직 커맨드 코드를 추가했다."
   ]
  },
  {
   "cell_type": "code",
   "execution_count": 10,
   "metadata": {},
   "outputs": [],
   "source": [
    "merged = tf.summary.merge_all()\n",
    "writer = tf.summary.FileWriter('./logs', sess.graph)"
   ]
  },
  {
   "cell_type": "markdown",
   "metadata": {},
   "source": [
    "- `tf.summary.merge_all` : 앞서 지정한 텐서들을 모두 수집\n",
    "- `tf.summary.FileWriter` : 그래프와 텐서의 값을 저장할 디렉토리 설정"
   ]
  },
  {
   "cell_type": "code",
   "execution_count": 11,
   "metadata": {},
   "outputs": [
    {
     "name": "stdout",
     "output_type": "stream",
     "text": [
      "Step : 201 Cost : 0.549\n",
      "Step : 211 Cost : 0.549\n",
      "Step : 221 Cost : 0.549\n",
      "Step : 231 Cost : 0.549\n",
      "Step : 241 Cost : 0.549\n",
      "Step : 251 Cost : 0.549\n",
      "Step : 261 Cost : 0.549\n",
      "Step : 271 Cost : 0.549\n",
      "Step : 281 Cost : 0.549\n",
      "Step : 291 Cost : 0.549\n"
     ]
    }
   ],
   "source": [
    "for step in range(100):\n",
    "    sess.run(train_op, feed_dict={X: x_data, Y: y_data})\n",
    "    \n",
    "    if step % 10 == 0:\n",
    "        print('Step : %d' % sess.run(global_step), \n",
    "             'Cost : %.3f' % sess.run(cost, feed_dict={X: x_data, Y: y_data}))\n",
    "    \n",
    "    summary = sess.run(merged, feed_dict={X: x_data, Y: y_data})\n",
    "    writer.add_summary(summary, global_step=sess.run(global_step))"
   ]
  },
  {
   "cell_type": "markdown",
   "metadata": {},
   "source": [
    "- `writer.add_summary` : 텐서들의 값을 저장하는 코드. 특정 시점에 (여기서는 매단계에서) 값들을 수집하고 저장한다."
   ]
  },
  {
   "cell_type": "code",
   "execution_count": 8,
   "metadata": {},
   "outputs": [
    {
     "name": "stdout",
     "output_type": "stream",
     "text": [
      "prediction:  [0 1 2 0 0 2 0 1 2 0 0 2 0 1 2 0 0 2 0 1 2 0 0 2]\n",
      "target:  [0 1 2 0 0 2 0 1 2 0 0 2 0 1 2 0 0 2 0 1 2 0 0 2]\n",
      "accuracy : 100.00\n"
     ]
    }
   ],
   "source": [
    "saver.save(sess, './tb_model/dnn.ckpt', global_step=global_step)\n",
    "\n",
    "prediction = tf.argmax(model, 1)\n",
    "target = tf.argmax(Y, 1)\n",
    "\n",
    "print('prediction: ', sess.run(prediction, feed_dict={X: x_data}))\n",
    "print('target: ', sess.run(target, feed_dict={Y: y_data}))\n",
    "is_correct = tf.equal(prediction, target)\n",
    "accuracy = tf.reduce_mean(tf.cast(is_correct, tf.float32))\n",
    "print(\"accuracy : %.2f\" % sess.run(accuracy * 100, feed_dict={X: x_data, Y: y_data}))"
   ]
  },
  {
   "cell_type": "code",
   "execution_count": null,
   "metadata": {},
   "outputs": [],
   "source": []
  }
 ],
 "metadata": {
  "kernelspec": {
   "display_name": "Python 3",
   "language": "python",
   "name": "python3"
  },
  "language_info": {
   "codemirror_mode": {
    "name": "ipython",
    "version": 3
   },
   "file_extension": ".py",
   "mimetype": "text/x-python",
   "name": "python",
   "nbconvert_exporter": "python",
   "pygments_lexer": "ipython3",
   "version": "3.6.5"
  }
 },
 "nbformat": 4,
 "nbformat_minor": 2
}
