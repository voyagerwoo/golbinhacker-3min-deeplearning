{
 "cells": [
  {
   "cell_type": "code",
   "execution_count": 1,
   "metadata": {},
   "outputs": [],
   "source": [
    "import tensorflow as tf\n",
    "import numpy as np"
   ]
  },
  {
   "cell_type": "markdown",
   "metadata": {},
   "source": [
    "## 특이사항\n",
    "\n",
    "- learning_rate를 바꾸고 `saver.restore`를 하게 되면 `NotFoundError: Key Variable_3 not found in checkpoint`에러가 발생한다. 아마 모델을 변경하고 저장된 체크포인트를 가져오려고 하면 에러가 나는 듯함... 그럴땐 그냥 모델을 지워야함.\n",
    "\n",
    "- 아무리 루프를 돌면서 학습해도 cost가 줄어들지 않는 경우가 있었다. -> W2, W3이 `tf.random_uniform`이 아닌 `tf.random_normal`이었다... `tf.random_uniform`으로 바꾸니까 잘되는듯.\n",
    "\n"
   ]
  },
  {
   "cell_type": "code",
   "execution_count": 2,
   "metadata": {},
   "outputs": [],
   "source": [
    "data = np.loadtxt('./data.csv', delimiter=',', unpack=True, dtype='float32')\n",
    "\n",
    "x_data = np.transpose(data[0:2])\n",
    "y_data = np.transpose(data[2:])\n"
   ]
  },
  {
   "cell_type": "markdown",
   "metadata": {},
   "source": [
    "- `unpack=True` parameter : 행과 열을 바꿔줌\n",
    "- `np.transpose` : 행과 열을 바꿔줌"
   ]
  },
  {
   "cell_type": "code",
   "execution_count": 3,
   "metadata": {},
   "outputs": [],
   "source": [
    "# training에 사용되는 변수가 아니고, 학습 회수를 카운트하는 변수\n",
    "global_step = tf.Variable(0, trainable=False, name='global_step')\n"
   ]
  },
  {
   "cell_type": "markdown",
   "metadata": {},
   "source": [
    "- `trainable=False` : 학습에 사용하지 않음 "
   ]
  },
  {
   "cell_type": "code",
   "execution_count": 11,
   "metadata": {},
   "outputs": [],
   "source": [
    "# bias없이 가중치만 있는 모델\n",
    "\n",
    "X = tf.placeholder(tf.float32)\n",
    "Y = tf.placeholder(tf.float32)\n",
    "\n",
    "W1 = tf.Variable(tf.random_uniform([2, 10], -1., 1.))\n",
    "L1 = tf.nn.relu(tf.matmul(X, W1))\n",
    "\n",
    "W2 = tf.Variable(tf.random_uniform([10, 20], -1., 1.))\n",
    "L2 = tf.nn.relu(tf.matmul(L1, W2))\n",
    "\n",
    "W3 = tf.Variable(tf.random_uniform([20, 3], -1., 1.))\n",
    "model = tf.matmul(L2, W3)\n",
    "\n",
    "cost = tf.reduce_mean(tf.nn.softmax_cross_entropy_with_logits_v2(labels=Y, logits=model))\n",
    "\n",
    "optimizer = tf.train.AdamOptimizer(learning_rate=0.03)\n",
    "train_op = optimizer.minimize(cost, global_step=global_step)\n",
    "\n"
   ]
  },
  {
   "cell_type": "markdown",
   "metadata": {},
   "source": [
    "```\n",
    "W1 : [2, 10] -> W2 : [10, 20] -> W3: [20, 3]\n",
    "```\n",
    "이런 식으로 신경망의 계층(W 추가)을 늘리고 은닉층 뉴런수(10, 20)를 증가시킬 수 있다. 그렇게 될 경우 복잡도가 높은 문제를 해결하는데 도움이 된다. 다만 이렇게 한다고 해서 무조건 도움이 되는 것은 아니며 과적합이라는 문제에 빠질 수도 있다.\n"
   ]
  },
  {
   "cell_type": "code",
   "execution_count": 12,
   "metadata": {},
   "outputs": [],
   "source": [
    "sess = tf.Session()\n",
    "saver = tf.train.Saver(tf.global_variables())"
   ]
  },
  {
   "cell_type": "markdown",
   "metadata": {},
   "source": [
    "- `tf.global_variables()` : 앞서 정의한 변수들을 가져오는 함수"
   ]
  },
  {
   "cell_type": "code",
   "execution_count": 13,
   "metadata": {},
   "outputs": [
    {
     "name": "stdout",
     "output_type": "stream",
     "text": [
      "INFO:tensorflow:Restoring parameters from ./model/dnn.ckpt-100\n",
      "remove a model directory because of NotFoundError!\n"
     ]
    }
   ],
   "source": [
    "ckpt = tf.train.get_checkpoint_state('./model')\n",
    "if ckpt and tf.train.checkpoint_exists(ckpt.model_checkpoint_path):\n",
    "    try : \n",
    "        saver.restore(sess, ckpt.model_checkpoint_path)\n",
    "    except tf.errors.NotFoundError as e:\n",
    "        print(\"remove a model directory because of NotFoundError!\")\n",
    "        !rm -rf ./model\n",
    "        sess.run(tf.global_variables_initializer())\n",
    "    \n",
    "else:\n",
    "    sess.run(tf.global_variables_initializer())"
   ]
  },
  {
   "cell_type": "markdown",
   "metadata": {},
   "source": [
    "위 코드는 `./model` 디렉토리에 기존에 학습해둔 모델이 있는지 확인하고 있다면 불러오고 없으면 변수를 새로 초기화 한다."
   ]
  },
  {
   "cell_type": "code",
   "execution_count": 14,
   "metadata": {},
   "outputs": [
    {
     "name": "stdout",
     "output_type": "stream",
     "text": [
      "Step : 1 Cost : 0.664\n",
      "Step : 11 Cost : 0.550\n",
      "Step : 21 Cost : 0.549\n",
      "Step : 31 Cost : 0.549\n",
      "Step : 41 Cost : 0.549\n",
      "Step : 51 Cost : 0.549\n",
      "Step : 61 Cost : 0.549\n",
      "Step : 71 Cost : 0.549\n",
      "Step : 81 Cost : 0.549\n",
      "Step : 91 Cost : 0.549\n"
     ]
    }
   ],
   "source": [
    "for step in range(100):\n",
    "    sess.run(train_op, feed_dict={X: x_data, Y: y_data})\n",
    "    \n",
    "    if step % 10 == 0:\n",
    "        print('Step : %d' % sess.run(global_step), \n",
    "             'Cost : %.3f' % sess.run(cost, feed_dict={X: x_data, Y: y_data}))"
   ]
  },
  {
   "cell_type": "code",
   "execution_count": 15,
   "metadata": {},
   "outputs": [
    {
     "data": {
      "text/plain": [
       "'./model/dnn.ckpt-100'"
      ]
     },
     "execution_count": 15,
     "metadata": {},
     "output_type": "execute_result"
    }
   ],
   "source": [
    "saver.save(sess, './model/dnn.ckpt', global_step=global_step)"
   ]
  },
  {
   "cell_type": "code",
   "execution_count": 16,
   "metadata": {},
   "outputs": [
    {
     "name": "stdout",
     "output_type": "stream",
     "text": [
      "prediction:  [0 1 2 0 0 2 0 1 2 0 0 2 0 1 2 0 0 2 0 1 2 0 0 2]\n",
      "target:  [0 1 2 0 0 2 0 1 2 0 0 2 0 1 2 0 0 2 0 1 2 0 0 2]\n",
      "accuracy : 100.00\n"
     ]
    }
   ],
   "source": [
    "prediction = tf.argmax(model, 1)\n",
    "target = tf.argmax(Y, 1)\n",
    "\n",
    "print('prediction: ', sess.run(prediction, feed_dict={X: x_data}))\n",
    "print('target: ', sess.run(target, feed_dict={Y: y_data}))\n",
    "is_correct = tf.equal(prediction, target)\n",
    "accuracy = tf.reduce_mean(tf.cast(is_correct, tf.float32))\n",
    "print(\"accuracy : %.2f\" % sess.run(accuracy * 100, feed_dict={X: x_data, Y: y_data}))"
   ]
  },
  {
   "cell_type": "markdown",
   "metadata": {},
   "source": [
    "- `tf.argmax` : 배열에서 가장 큰 값의 인덱스를 반환하는 함수. np.argmax 도 동일\n",
    "- `tf.cast` : 값은 다른 데이터 타입으로 캐스팅하는 함수"
   ]
  },
  {
   "cell_type": "code",
   "execution_count": null,
   "metadata": {},
   "outputs": [],
   "source": []
  }
 ],
 "metadata": {
  "kernelspec": {
   "display_name": "Python 3",
   "language": "python",
   "name": "python3"
  },
  "language_info": {
   "codemirror_mode": {
    "name": "ipython",
    "version": 3
   },
   "file_extension": ".py",
   "mimetype": "text/x-python",
   "name": "python",
   "nbconvert_exporter": "python",
   "pygments_lexer": "ipython3",
   "version": "3.6.5"
  }
 },
 "nbformat": 4,
 "nbformat_minor": 2
}
