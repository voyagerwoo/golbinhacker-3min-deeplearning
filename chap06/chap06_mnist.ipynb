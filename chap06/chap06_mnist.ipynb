{
 "cells": [
  {
   "cell_type": "code",
   "execution_count": 1,
   "metadata": {},
   "outputs": [
    {
     "name": "stdout",
     "output_type": "stream",
     "text": [
      "WARNING:tensorflow:From /Users/yeomyeongwoo/anaconda3/envs/tensorflow/lib/python3.6/site-packages/tensorflow/contrib/learn/python/learn/datasets/base.py:198: retry (from tensorflow.contrib.learn.python.learn.datasets.base) is deprecated and will be removed in a future version.\n",
      "Instructions for updating:\n",
      "Use the retry module or similar alternatives.\n",
      "WARNING:tensorflow:From <ipython-input-1-0f2f9eba0bb9>:4: read_data_sets (from tensorflow.contrib.learn.python.learn.datasets.mnist) is deprecated and will be removed in a future version.\n",
      "Instructions for updating:\n",
      "Please use alternatives such as official/mnist/dataset.py from tensorflow/models.\n",
      "WARNING:tensorflow:From /Users/yeomyeongwoo/anaconda3/envs/tensorflow/lib/python3.6/site-packages/tensorflow/contrib/learn/python/learn/datasets/mnist.py:260: maybe_download (from tensorflow.contrib.learn.python.learn.datasets.base) is deprecated and will be removed in a future version.\n",
      "Instructions for updating:\n",
      "Please write your own downloading logic.\n",
      "WARNING:tensorflow:From /Users/yeomyeongwoo/anaconda3/envs/tensorflow/lib/python3.6/site-packages/tensorflow/contrib/learn/python/learn/datasets/base.py:219: retry.<locals>.wrap.<locals>.wrapped_fn (from tensorflow.contrib.learn.python.learn.datasets.base) is deprecated and will be removed in a future version.\n",
      "Instructions for updating:\n",
      "Please use urllib or similar directly.\n",
      "Successfully downloaded train-images-idx3-ubyte.gz 9912422 bytes.\n",
      "WARNING:tensorflow:From /Users/yeomyeongwoo/anaconda3/envs/tensorflow/lib/python3.6/site-packages/tensorflow/contrib/learn/python/learn/datasets/mnist.py:262: extract_images (from tensorflow.contrib.learn.python.learn.datasets.mnist) is deprecated and will be removed in a future version.\n",
      "Instructions for updating:\n",
      "Please use tf.data to implement this functionality.\n",
      "Extracting ./mnist/data/train-images-idx3-ubyte.gz\n",
      "Successfully downloaded train-labels-idx1-ubyte.gz 28881 bytes.\n",
      "WARNING:tensorflow:From /Users/yeomyeongwoo/anaconda3/envs/tensorflow/lib/python3.6/site-packages/tensorflow/contrib/learn/python/learn/datasets/mnist.py:267: extract_labels (from tensorflow.contrib.learn.python.learn.datasets.mnist) is deprecated and will be removed in a future version.\n",
      "Instructions for updating:\n",
      "Please use tf.data to implement this functionality.\n",
      "Extracting ./mnist/data/train-labels-idx1-ubyte.gz\n",
      "WARNING:tensorflow:From /Users/yeomyeongwoo/anaconda3/envs/tensorflow/lib/python3.6/site-packages/tensorflow/contrib/learn/python/learn/datasets/mnist.py:110: dense_to_one_hot (from tensorflow.contrib.learn.python.learn.datasets.mnist) is deprecated and will be removed in a future version.\n",
      "Instructions for updating:\n",
      "Please use tf.one_hot on tensors.\n",
      "Successfully downloaded t10k-images-idx3-ubyte.gz 1648877 bytes.\n",
      "Extracting ./mnist/data/t10k-images-idx3-ubyte.gz\n",
      "Successfully downloaded t10k-labels-idx1-ubyte.gz 4542 bytes.\n",
      "Extracting ./mnist/data/t10k-labels-idx1-ubyte.gz\n",
      "WARNING:tensorflow:From /Users/yeomyeongwoo/anaconda3/envs/tensorflow/lib/python3.6/site-packages/tensorflow/contrib/learn/python/learn/datasets/mnist.py:290: DataSet.__init__ (from tensorflow.contrib.learn.python.learn.datasets.mnist) is deprecated and will be removed in a future version.\n",
      "Instructions for updating:\n",
      "Please use alternatives such as official/mnist/dataset.py from tensorflow/models.\n"
     ]
    }
   ],
   "source": [
    "import tensorflow as tf\n",
    "from tensorflow.examples.tutorials.mnist import input_data\n",
    "\n",
    "mnist = input_data.read_data_sets('./mnist/data', one_hot=True)"
   ]
  },
  {
   "cell_type": "code",
   "execution_count": null,
   "metadata": {},
   "outputs": [],
   "source": [
    "X = tf.placeholder(tf.float32, [None, 784])\n",
    "Y = tf.placeholder(tf.float32, [None, 10])"
   ]
  },
  {
   "cell_type": "markdown",
   "metadata": {},
   "source": [
    "### 미니 배치\n",
    "\n",
    "이미지를 하나씩 학습시키는 것보다 여러개를 한꺼번에 학습시키는 것이 효과가 좋지만, 컴퓨팅 성능의 제약 때문에 적당한 크기로 잘라서 학습시킨다. 이것을 미니배치라고 한다. X, Y 텐서의 첫번째 차원이 None으로 되어있는데, 이 자리에는 이미지 개수를 지정하는 값인 배치 크기를 지정하게 된다. 원하는 배치 크기로 명시할 수 있지만 개수를 계속 변경하면서 실험해보려면 None으로 하는것이 유리하다."
   ]
  },
  {
   "cell_type": "code",
   "execution_count": 3,
   "metadata": {},
   "outputs": [],
   "source": [
    "# 신경망 개수 \n",
    "# 784(입력, 특징 개수, 28 * 28) -> 256 (첫 번째 은닉층 뉴런 개수) -> 256 (두 번째 은닉층 뉴런 개수) -> 10 (결과값 0,9 분류 개수)\n",
    "\n",
    "W1 = tf.Variable(tf.random_normal([784, 256], stddev=0.01))\n",
    "b1 = tf.Variable(tf.zeros([256]))\n",
    "L1 = tf.nn.relu(tf.add(tf.matmul(X, W1), b1))\n",
    "\n",
    "W2 = tf.Variable(tf.random_normal([256, 256], stddev=0.01))\n",
    "b2 = tf.Variable(tf.zeros([256]))\n",
    "L2 = tf.nn.relu(tf.add(tf.matmul(L1, W2), b2))\n",
    "\n",
    "W3 = tf.Variable(tf.random_normal([256, 10], stddev=0.01))\n",
    "b3 = tf.Variable(tf.zeros([10]))\n",
    "model = tf.add(tf.matmul(L2, W3), b3)\n"
   ]
  },
  {
   "cell_type": "markdown",
   "metadata": {},
   "source": [
    "- `tf.random_normal`: 정규 분포를 가지는 임의의 값. stddev는 표준편차를 지정하는 파라미터.  "
   ]
  },
  {
   "cell_type": "code",
   "execution_count": 4,
   "metadata": {},
   "outputs": [],
   "source": [
    "cost = tf.reduce_mean(tf.nn.softmax_cross_entropy_with_logits_v2(logits=model, labels=Y))\n",
    "optimizer = tf.train.AdamOptimizer(0.001).minimize(cost)\n",
    "\n",
    "init = tf.global_variables_initializer()\n",
    "sess = tf.Session()\n",
    "sess.run(init)"
   ]
  },
  {
   "cell_type": "markdown",
   "metadata": {},
   "source": [
    "### training data vs test data\n",
    "`training data` 학습데이터는 학습을 시킬 때 사용하고, `test data` 테스트 데이터는 학습을 테스트 하기 위해서 사용한다. 왜냐하면 학습 데이터는 예측을 매우 잘하지만, 실제 데이터(학습 데이터에 포합되지 않은 데이터)는 정확도가 떨어지는 상태를 피하기 위해서이다. 이런 상태를 `Overfitting` 과적합이라고 한다.\n",
    "\n",
    "MNIST 데이터 셋의 경우, 학습데이터 6만개와 테스트 데이터 1만개로 구성되어 있다."
   ]
  },
  {
   "cell_type": "code",
   "execution_count": 6,
   "metadata": {},
   "outputs": [
    {
     "name": "stdout",
     "output_type": "stream",
     "text": [
      "batch size : 100\n",
      "total batch size : 550\n"
     ]
    }
   ],
   "source": [
    "batch_size = 100\n",
    "total_batch = int(mnist.train.num_examples / batch_size)\n",
    "\n",
    "print('batch size : %s' % batch_size)\n",
    "print('total batch size : %s' % total_batch)"
   ]
  },
  {
   "cell_type": "markdown",
   "metadata": {},
   "source": [
    "MNIST는 데이터가 수만개이므로 미니배치를 이용하여 학습한다. 미니배치를 100으로 지정한다. 결과 미니배치의 개수는 총 550개이다."
   ]
  },
  {
   "cell_type": "code",
   "execution_count": 11,
   "metadata": {},
   "outputs": [
    {
     "name": "stdout",
     "output_type": "stream",
     "text": [
      "Epoch: 0001 Avg. cost = 0.005\n",
      "Epoch: 0002 Avg. cost = 0.005\n",
      "Epoch: 0003 Avg. cost = 0.007\n",
      "Epoch: 0004 Avg. cost = 0.005\n",
      "Epoch: 0005 Avg. cost = 0.005\n",
      "Epoch: 0006 Avg. cost = 0.005\n",
      "Epoch: 0007 Avg. cost = 0.004\n",
      "Epoch: 0008 Avg. cost = 0.004\n",
      "Epoch: 0009 Avg. cost = 0.009\n",
      "Epoch: 0010 Avg. cost = 0.002\n",
      "Epoch: 0011 Avg. cost = 0.003\n",
      "Epoch: 0012 Avg. cost = 0.007\n",
      "Epoch: 0013 Avg. cost = 0.006\n",
      "Epoch: 0014 Avg. cost = 0.002\n",
      "Epoch: 0015 Avg. cost = 0.004\n",
      "Complete!\n"
     ]
    }
   ],
   "source": [
    "for epoch in range(15):\n",
    "    total_cost = 0\n",
    "\n",
    "    for i in range(total_batch):\n",
    "        batch_xs, batch_ys = mnist.train.next_batch(batch_size)\n",
    "        _, cost_val = sess.run([optimizer, cost], feed_dict={X: batch_xs, Y: batch_ys})\n",
    "        total_cost += cost_val\n",
    "        \n",
    "    print('Epoch: %04d' % (epoch + 1), 'Avg. cost = {:.3f}'.format(total_cost/total_batch))\n",
    "\n",
    "print('Complete!')"
   ]
  },
  {
   "cell_type": "markdown",
   "metadata": {},
   "source": [
    "### Epoch\n",
    "학습데이터 전체를 한바퀴 돌아서 학습하는 것을 `epoch` 에폭 이라고 한다."
   ]
  },
  {
   "cell_type": "code",
   "execution_count": 27,
   "metadata": {},
   "outputs": [
    {
     "name": "stdout",
     "output_type": "stream",
     "text": [
      "Accuracy : 0.9768\n"
     ]
    }
   ],
   "source": [
    "is_correct = tf.equal(tf.argmax(model, axis=1), tf.argmax(Y, axis=1))\n",
    "accuracy = tf.reduce_mean(tf.cast(is_correct, tf.float32))\n",
    "print('Accuracy : %s' % sess.run(accuracy, feed_dict={X: mnist.test.images, Y: mnist.test.labels}))"
   ]
  },
  {
   "cell_type": "markdown",
   "metadata": {},
   "source": [
    "예측한 결괏값은 원핫 인코딩 형식이며 각 인덱스에 해당하는 값은 얼마나 해당 인덱스와 관련이 높은가를 나타낸다. 이것은 손실값을 `softmax_cross_entropy_with_logits`를 이용했기 때문이다.\n",
    "\n",
    "- `tf.argmax(model, axis=1)`: model 두번째 차원(1번 인덱스의 차원)의 값중 최댓값의 인덱스를 뽑아내는 함수. 그래서 결과가 1차원 배열이 된다. "
   ]
  },
  {
   "cell_type": "code",
   "execution_count": 28,
   "metadata": {},
   "outputs": [
    {
     "name": "stdout",
     "output_type": "stream",
     "text": [
      "Model : [[-13.400582  -18.154526  -13.321923  ...  22.286652  -22.17606\n",
      "    3.9002728]\n",
      " [-12.15994    -2.7420294  37.294502  ... -47.60979   -33.038536\n",
      "  -44.613136 ]\n",
      " [-27.639322   14.161953   -5.440674  ...  -4.740999    1.9001095\n",
      "  -19.939383 ]\n",
      " ...\n",
      " [-38.794693  -30.791235  -27.184042  ... -10.2394705 -18.221363\n",
      "   -3.6161861]\n",
      " [-32.935997  -32.811287  -44.752804  ... -22.837934   -4.5150557\n",
      "  -42.987896 ]\n",
      " [ -9.561734  -37.685596  -20.247814  ... -49.692673  -31.70034\n",
      "  -51.061157 ]]\n"
     ]
    }
   ],
   "source": [
    "print('Model : %s' % sess.run(model, feed_dict={X: mnist.test.images, Y: mnist.test.labels}))"
   ]
  },
  {
   "cell_type": "code",
   "execution_count": 29,
   "metadata": {},
   "outputs": [
    {
     "name": "stdout",
     "output_type": "stream",
     "text": [
      "tf.argmax(model, 1) : [7 2 1 ... 4 5 6]\n"
     ]
    }
   ],
   "source": [
    "print('tf.argmax(model, 1) : %s' % sess.run(tf.argmax(model, 1), feed_dict={X: mnist.test.images, Y: mnist.test.labels}))"
   ]
  },
  {
   "cell_type": "code",
   "execution_count": null,
   "metadata": {},
   "outputs": [],
   "source": []
  }
 ],
 "metadata": {
  "kernelspec": {
   "display_name": "Python 3",
   "language": "python",
   "name": "python3"
  },
  "language_info": {
   "codemirror_mode": {
    "name": "ipython",
    "version": 3
   },
   "file_extension": ".py",
   "mimetype": "text/x-python",
   "name": "python",
   "nbconvert_exporter": "python",
   "pygments_lexer": "ipython3",
   "version": "3.6.5"
  }
 },
 "nbformat": 4,
 "nbformat_minor": 2
}
