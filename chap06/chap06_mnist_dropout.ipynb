{
 "cells": [
  {
   "cell_type": "markdown",
   "metadata": {},
   "source": [
    "## 과적합 Overfitting\n",
    "\n",
    "학습한 결과가 학습데이터에는 매우 잘 맞지만, 학습 데이터에만 너무 꼭 맞춰져 있어서 그 외의 데이터에는 잘 맞지 않는 상황\n",
    "\n",
    "## 드롭아웃 Dropout\n",
    "\n",
    "학습 시 전체 신경망 중 일부만을 사용하도록 하는 것. 즉 학습 단계마다 일부 뉴런을 제거(사용하지 않도록)함으로써, 일부 특징이 특정 뉴런들에 고정되는 것을 막아 가중치의 균형을 잡도록 하여 과적합을 방지한다. \n",
    "\n",
    "다만, 학습 시 일부 뉴런을 학습시키지 않기 때문에 충분하게 신경망이 학습될 때까지 시간이 좀 오래걸린다. (이말은 epoch을 좀더 늘려야할 수 도 있다는 것)"
   ]
  },
  {
   "cell_type": "code",
   "execution_count": 1,
   "metadata": {},
   "outputs": [
    {
     "name": "stdout",
     "output_type": "stream",
     "text": [
      "WARNING:tensorflow:From /Users/yeomyeongwoo/anaconda3/envs/tensorflow/lib/python3.6/site-packages/tensorflow/contrib/learn/python/learn/datasets/base.py:198: retry (from tensorflow.contrib.learn.python.learn.datasets.base) is deprecated and will be removed in a future version.\n",
      "Instructions for updating:\n",
      "Use the retry module or similar alternatives.\n",
      "WARNING:tensorflow:From <ipython-input-1-79dd1ec95eac>:5: read_data_sets (from tensorflow.contrib.learn.python.learn.datasets.mnist) is deprecated and will be removed in a future version.\n",
      "Instructions for updating:\n",
      "Please use alternatives such as official/mnist/dataset.py from tensorflow/models.\n",
      "WARNING:tensorflow:From /Users/yeomyeongwoo/anaconda3/envs/tensorflow/lib/python3.6/site-packages/tensorflow/contrib/learn/python/learn/datasets/mnist.py:260: maybe_download (from tensorflow.contrib.learn.python.learn.datasets.base) is deprecated and will be removed in a future version.\n",
      "Instructions for updating:\n",
      "Please write your own downloading logic.\n",
      "WARNING:tensorflow:From /Users/yeomyeongwoo/anaconda3/envs/tensorflow/lib/python3.6/site-packages/tensorflow/contrib/learn/python/learn/datasets/mnist.py:262: extract_images (from tensorflow.contrib.learn.python.learn.datasets.mnist) is deprecated and will be removed in a future version.\n",
      "Instructions for updating:\n",
      "Please use tf.data to implement this functionality.\n",
      "Extracting ./mnist/data/train-images-idx3-ubyte.gz\n",
      "WARNING:tensorflow:From /Users/yeomyeongwoo/anaconda3/envs/tensorflow/lib/python3.6/site-packages/tensorflow/contrib/learn/python/learn/datasets/mnist.py:267: extract_labels (from tensorflow.contrib.learn.python.learn.datasets.mnist) is deprecated and will be removed in a future version.\n",
      "Instructions for updating:\n",
      "Please use tf.data to implement this functionality.\n",
      "Extracting ./mnist/data/train-labels-idx1-ubyte.gz\n",
      "WARNING:tensorflow:From /Users/yeomyeongwoo/anaconda3/envs/tensorflow/lib/python3.6/site-packages/tensorflow/contrib/learn/python/learn/datasets/mnist.py:110: dense_to_one_hot (from tensorflow.contrib.learn.python.learn.datasets.mnist) is deprecated and will be removed in a future version.\n",
      "Instructions for updating:\n",
      "Please use tf.one_hot on tensors.\n",
      "Extracting ./mnist/data/t10k-images-idx3-ubyte.gz\n",
      "Extracting ./mnist/data/t10k-labels-idx1-ubyte.gz\n",
      "WARNING:tensorflow:From /Users/yeomyeongwoo/anaconda3/envs/tensorflow/lib/python3.6/site-packages/tensorflow/contrib/learn/python/learn/datasets/mnist.py:290: DataSet.__init__ (from tensorflow.contrib.learn.python.learn.datasets.mnist) is deprecated and will be removed in a future version.\n",
      "Instructions for updating:\n",
      "Please use alternatives such as official/mnist/dataset.py from tensorflow/models.\n"
     ]
    }
   ],
   "source": [
    "import tensorflow as tf\n",
    "import numpy as np\n",
    "\n",
    "from tensorflow.examples.tutorials.mnist import input_data\n",
    "mnist = input_data.read_data_sets(\"./mnist/data/\", one_hot=True)"
   ]
  },
  {
   "cell_type": "code",
   "execution_count": 3,
   "metadata": {},
   "outputs": [],
   "source": [
    "X = tf.placeholder(tf.float32, [None, 784])\n",
    "Y = tf.placeholder(tf.float32, [None, 10])\n",
    "\n",
    "keep_prob = tf.placeholder(tf.float32)\n",
    "\n",
    "W1 = tf.Variable(tf.random_normal([784, 256], stddev=0.01))\n",
    "b1 = tf.Variable(tf.zeros([256]))\n",
    "L1 = tf.nn.relu(tf.add(tf.matmul(X, W1), b1))\n",
    "L1 = tf.nn.dropout(L1, keep_prob)\n",
    "\n",
    "W2 = tf.Variable(tf.random_normal([256, 256], stddev=0.01))\n",
    "b2 = tf.Variable(tf.zeros([256]))\n",
    "L2 = tf.nn.relu(tf.add(tf.matmul(L1, W2), b2))\n",
    "L2 = tf.nn.dropout(L2, keep_prob)\n",
    "\n",
    "W3 = tf.Variable(tf.random_normal([256, 10], stddev=0.01))\n",
    "b3 = tf.Variable(tf.zeros([10]))\n",
    "model = tf.add(tf.matmul(L2, W3), b3)\n",
    "\n",
    "cost = tf.reduce_mean(tf.nn.softmax_cross_entropy_with_logits_v2(logits=model, labels=Y))\n",
    "opt = tf.train.AdamOptimizer(learning_rate=0.01).minimize(cost)"
   ]
  },
  {
   "cell_type": "markdown",
   "metadata": {},
   "source": [
    "### `tf.nn.dropout(L1, keep_prob)` \n",
    "\n",
    "이렇게 계층(Layer) 구성 마지막에 tf.nn.dropout 함수를 사용하면 드랍아웃이 적용된다. 첫번째 파라미터는 텐서가 들어가도 두번째 파라미터는 사용할 뉴런의 비율이 들어간다. 주의해야할 것은 학습이 끝난 뒤 예측시에는 신경망 전체를 사용하도록 해줘야한다는 것. 그래서 keep_prob 라는 placeholder를 만들어 학습 시에는 0.8을 넣고 예측 시에는 1을 넣어 신경망 전체를 사용하도록 한다.\n"
   ]
  },
  {
   "cell_type": "code",
   "execution_count": 11,
   "metadata": {},
   "outputs": [
    {
     "name": "stdout",
     "output_type": "stream",
     "text": [
      "batch size : 100\n",
      "total batch size : 550\n",
      "Epoch: 0001 Avg. cost = 0.345\n",
      "Epoch: 0002 Avg. cost = 0.244\n",
      "Epoch: 0003 Avg. cost = 0.228\n",
      "Epoch: 0004 Avg. cost = 0.210\n",
      "Epoch: 0005 Avg. cost = 0.214\n",
      "Epoch: 0006 Avg. cost = 0.203\n",
      "Epoch: 0007 Avg. cost = 0.189\n",
      "Epoch: 0008 Avg. cost = 0.195\n",
      "Epoch: 0009 Avg. cost = 0.182\n",
      "Epoch: 0010 Avg. cost = 0.185\n",
      "Epoch: 0011 Avg. cost = 0.173\n",
      "Epoch: 0012 Avg. cost = 0.165\n",
      "Epoch: 0013 Avg. cost = 0.166\n",
      "Epoch: 0014 Avg. cost = 0.166\n",
      "Epoch: 0015 Avg. cost = 0.168\n",
      "Epoch: 0016 Avg. cost = 0.157\n",
      "Epoch: 0017 Avg. cost = 0.165\n",
      "Epoch: 0018 Avg. cost = 0.155\n",
      "Epoch: 0019 Avg. cost = 0.157\n",
      "Epoch: 0020 Avg. cost = 0.150\n",
      "Epoch: 0021 Avg. cost = 0.163\n",
      "Epoch: 0022 Avg. cost = 0.173\n",
      "Epoch: 0023 Avg. cost = 0.154\n",
      "Epoch: 0024 Avg. cost = 0.158\n",
      "Epoch: 0025 Avg. cost = 0.154\n",
      "Epoch: 0026 Avg. cost = 0.154\n",
      "Epoch: 0027 Avg. cost = 0.143\n",
      "Epoch: 0028 Avg. cost = 0.145\n",
      "Epoch: 0029 Avg. cost = 0.148\n",
      "Epoch: 0030 Avg. cost = 0.143\n",
      "Epoch: 0031 Avg. cost = 0.150\n",
      "Epoch: 0032 Avg. cost = 0.142\n",
      "Epoch: 0033 Avg. cost = 0.141\n",
      "Epoch: 0034 Avg. cost = 0.134\n",
      "Epoch: 0035 Avg. cost = 0.133\n",
      "Epoch: 0036 Avg. cost = 0.139\n",
      "Epoch: 0037 Avg. cost = 0.141\n",
      "Epoch: 0038 Avg. cost = 0.137\n",
      "Epoch: 0039 Avg. cost = 0.129\n",
      "Epoch: 0040 Avg. cost = 0.147\n",
      "Epoch: 0041 Avg. cost = 0.144\n",
      "Epoch: 0042 Avg. cost = 0.144\n",
      "Epoch: 0043 Avg. cost = 0.137\n",
      "Epoch: 0044 Avg. cost = 0.132\n",
      "Epoch: 0045 Avg. cost = 0.148\n",
      "Complete!\n"
     ]
    }
   ],
   "source": [
    "init = tf.global_variables_initializer()\n",
    "sess = tf.Session()\n",
    "sess.run(init)\n",
    "\n",
    "batch_size = 100\n",
    "total_batch = int(mnist.train.num_examples / batch_size)\n",
    "\n",
    "print('batch size : %s' % batch_size)\n",
    "print('total batch size : %s' % total_batch)\n",
    "\n",
    "for epoch in range(45):\n",
    "    total_cost = 0\n",
    "\n",
    "    for i in range(total_batch):\n",
    "        batch_xs, batch_ys = mnist.train.next_batch(batch_size)\n",
    "        _, cost_val = sess.run([opt, cost], feed_dict={X: batch_xs, Y: batch_ys, keep_prob: 0.8})\n",
    "        total_cost += cost_val\n",
    "        \n",
    "    print('Epoch: %04d' % (epoch + 1), 'Avg. cost = {:.3f}'.format(total_cost/total_batch))\n",
    "\n",
    "print('Complete!')"
   ]
  },
  {
   "cell_type": "code",
   "execution_count": 12,
   "metadata": {},
   "outputs": [
    {
     "name": "stdout",
     "output_type": "stream",
     "text": [
      "Accuracy : 0.9706\n"
     ]
    }
   ],
   "source": [
    "is_correct = tf.equal(tf.argmax(model, axis=1), tf.argmax(Y, axis=1))\n",
    "accuracy = tf.reduce_mean(tf.cast(is_correct, tf.float32))\n",
    "print('Accuracy : %s' % sess.run(accuracy, \n",
    "                                 feed_dict={X: mnist.test.images, Y: mnist.test.labels, keep_prob: 1}))"
   ]
  },
  {
   "cell_type": "markdown",
   "metadata": {},
   "source": [
    "# 특이사항\n",
    "\n",
    "- epoch을 15로 했을 때도 정확도가 dropout을 적용하기 전보다 낮았다.\n",
    "- epoch을 30으로 했을 때도 정확도가 dropout 적용 전보다 낮았다.\n",
    "- epoch을 45으로 했을 때도 정확도가 dropout 적용 전보다 낮았다.\n",
    "\n",
    "\n"
   ]
  },
  {
   "cell_type": "code",
   "execution_count": 16,
   "metadata": {},
   "outputs": [
    {
     "data": {
      "image/png": "[encoded data removed]",
      "text/plain": [
       "<Figure size 432x288 with 10 Axes>"
      ]
     },
     "metadata": {},
     "output_type": "display_data"
    }
   ],
   "source": [
    "import matplotlib.pyplot as plt\n",
    "\n",
    "labels = sess.run(model, feed_dict={X: mnist.test.images, Y: mnist.test.labels, keep_prob: 1})\n",
    "fig = plt.figure()\n",
    "\n",
    "for i in range(10):\n",
    "    subplot = fig.add_subplot(2,5, i+1)\n",
    "    \n",
    "    # x. y 축 눈금 삭제\n",
    "    subplot.set_xticks([])\n",
    "    subplot.set_yticks([])\n",
    "    \n",
    "    subplot.set_title('%d' % np.argmax(labels[i]))\n",
    "    \n",
    "    # 1차원 배열의 값을 28x28 형식의 2차원 배열로 변경\n",
    "    # cmap 파라미터를 통해 이미지를 그레이 스케일로 출력\n",
    "    subplot.imshow(mnist.test.images[i].reshape((28, 28)), cmap=plt.cm.gray_r )\n",
    "plt.show()"
   ]
  },
  {
   "cell_type": "code",
   "execution_count": null,
   "metadata": {},
   "outputs": [],
   "source": []
  }
 ],
 "metadata": {
  "kernelspec": {
   "display_name": "Python 3",
   "language": "python",
   "name": "python3"
  },
  "language_info": {
   "codemirror_mode": {
    "name": "ipython",
    "version": 3
   },
   "file_extension": ".py",
   "mimetype": "text/x-python",
   "name": "python",
   "nbconvert_exporter": "python",
   "pygments_lexer": "ipython3",
   "version": "3.6.5"
  }
 },
 "nbformat": 4,
 "nbformat_minor": 2
}
