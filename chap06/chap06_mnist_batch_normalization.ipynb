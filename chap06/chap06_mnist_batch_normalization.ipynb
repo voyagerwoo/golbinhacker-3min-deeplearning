{
 "cells": [
  {
   "cell_type": "markdown",
   "metadata": {},
   "source": [
    "# 더해보기 - Batch Normalization\n",
    "\n",
    "- https://shuuki4.wordpress.com/2016/01/13/batch-normalization-%EC%84%A4%EB%AA%85-%EB%B0%8F-%EA%B5%AC%ED%98%84/\n",
    "\n",
    "이 기법은 overfitting 뿐만 아니라 학습 속도 또한 향상시켜 주는 장점이 있다."
   ]
  },
  {
   "cell_type": "code",
   "execution_count": 1,
   "metadata": {},
   "outputs": [
    {
     "name": "stdout",
     "output_type": "stream",
     "text": [
      "WARNING:tensorflow:From /Users/yeomyeongwoo/anaconda3/envs/tensorflow/lib/python3.6/site-packages/tensorflow/contrib/learn/python/learn/datasets/base.py:198: retry (from tensorflow.contrib.learn.python.learn.datasets.base) is deprecated and will be removed in a future version.\n",
      "Instructions for updating:\n",
      "Use the retry module or similar alternatives.\n",
      "WARNING:tensorflow:From <ipython-input-1-79dd1ec95eac>:5: read_data_sets (from tensorflow.contrib.learn.python.learn.datasets.mnist) is deprecated and will be removed in a future version.\n",
      "Instructions for updating:\n",
      "Please use alternatives such as official/mnist/dataset.py from tensorflow/models.\n",
      "WARNING:tensorflow:From /Users/yeomyeongwoo/anaconda3/envs/tensorflow/lib/python3.6/site-packages/tensorflow/contrib/learn/python/learn/datasets/mnist.py:260: maybe_download (from tensorflow.contrib.learn.python.learn.datasets.base) is deprecated and will be removed in a future version.\n",
      "Instructions for updating:\n",
      "Please write your own downloading logic.\n",
      "WARNING:tensorflow:From /Users/yeomyeongwoo/anaconda3/envs/tensorflow/lib/python3.6/site-packages/tensorflow/contrib/learn/python/learn/datasets/mnist.py:262: extract_images (from tensorflow.contrib.learn.python.learn.datasets.mnist) is deprecated and will be removed in a future version.\n",
      "Instructions for updating:\n",
      "Please use tf.data to implement this functionality.\n",
      "Extracting ./mnist/data/train-images-idx3-ubyte.gz\n",
      "WARNING:tensorflow:From /Users/yeomyeongwoo/anaconda3/envs/tensorflow/lib/python3.6/site-packages/tensorflow/contrib/learn/python/learn/datasets/mnist.py:267: extract_labels (from tensorflow.contrib.learn.python.learn.datasets.mnist) is deprecated and will be removed in a future version.\n",
      "Instructions for updating:\n",
      "Please use tf.data to implement this functionality.\n",
      "Extracting ./mnist/data/train-labels-idx1-ubyte.gz\n",
      "WARNING:tensorflow:From /Users/yeomyeongwoo/anaconda3/envs/tensorflow/lib/python3.6/site-packages/tensorflow/contrib/learn/python/learn/datasets/mnist.py:110: dense_to_one_hot (from tensorflow.contrib.learn.python.learn.datasets.mnist) is deprecated and will be removed in a future version.\n",
      "Instructions for updating:\n",
      "Please use tf.one_hot on tensors.\n",
      "Extracting ./mnist/data/t10k-images-idx3-ubyte.gz\n",
      "Extracting ./mnist/data/t10k-labels-idx1-ubyte.gz\n",
      "WARNING:tensorflow:From /Users/yeomyeongwoo/anaconda3/envs/tensorflow/lib/python3.6/site-packages/tensorflow/contrib/learn/python/learn/datasets/mnist.py:290: DataSet.__init__ (from tensorflow.contrib.learn.python.learn.datasets.mnist) is deprecated and will be removed in a future version.\n",
      "Instructions for updating:\n",
      "Please use alternatives such as official/mnist/dataset.py from tensorflow/models.\n"
     ]
    }
   ],
   "source": [
    "import tensorflow as tf\n",
    "import numpy as np\n",
    "\n",
    "from tensorflow.examples.tutorials.mnist import input_data\n",
    "mnist = input_data.read_data_sets(\"./mnist/data/\", one_hot=True)"
   ]
  },
  {
   "cell_type": "code",
   "execution_count": 3,
   "metadata": {},
   "outputs": [],
   "source": [
    "X = tf.placeholder(tf.float32, [None, 784])\n",
    "Y = tf.placeholder(tf.float32, [None, 10])\n",
    "\n",
    "is_training = tf.placeholder(tf.bool)\n",
    "\n",
    "W1 = tf.Variable(tf.random_normal([784, 256], stddev=0.01))\n",
    "b1 = tf.Variable(tf.zeros([256]))\n",
    "L1 = tf.nn.relu(tf.add(tf.matmul(X, W1), b1))\n",
    "L1 = tf.layers.batch_normalization(L1, training=is_training)\n",
    "\n",
    "W2 = tf.Variable(tf.random_normal([256, 256], stddev=0.01))\n",
    "b2 = tf.Variable(tf.zeros([256]))\n",
    "L2 = tf.nn.relu(tf.add(tf.matmul(L1, W2), b2))\n",
    "L2 = tf.layers.batch_normalization(L2, training=is_training)\n",
    "\n",
    "W3 = tf.Variable(tf.random_normal([256, 10], stddev=0.01))\n",
    "b3 = tf.Variable(tf.zeros([10]))\n",
    "model = tf.add(tf.matmul(L2, W3), b3)\n",
    "\n",
    "cost = tf.reduce_mean(tf.nn.softmax_cross_entropy_with_logits_v2(logits=model, labels=Y))\n",
    "opt = tf.train.AdamOptimizer(learning_rate=0.01).minimize(cost)"
   ]
  },
  {
   "cell_type": "code",
   "execution_count": 4,
   "metadata": {},
   "outputs": [
    {
     "name": "stdout",
     "output_type": "stream",
     "text": [
      "batch size : 100\n",
      "total batch size : 550\n",
      "Epoch: 0001 Avg. cost = 0.217\n",
      "Epoch: 0002 Avg. cost = 0.111\n",
      "Epoch: 0003 Avg. cost = 0.082\n",
      "Epoch: 0004 Avg. cost = 0.070\n",
      "Epoch: 0005 Avg. cost = 0.059\n",
      "Epoch: 0006 Avg. cost = 0.052\n",
      "Epoch: 0007 Avg. cost = 0.048\n",
      "Epoch: 0008 Avg. cost = 0.040\n",
      "Epoch: 0009 Avg. cost = 0.039\n",
      "Epoch: 0010 Avg. cost = 0.035\n",
      "Epoch: 0011 Avg. cost = 0.034\n",
      "Epoch: 0012 Avg. cost = 0.026\n",
      "Epoch: 0013 Avg. cost = 0.031\n",
      "Epoch: 0014 Avg. cost = 0.026\n",
      "Epoch: 0015 Avg. cost = 0.027\n",
      "Epoch: 0016 Avg. cost = 0.027\n",
      "Epoch: 0017 Avg. cost = 0.023\n",
      "Epoch: 0018 Avg. cost = 0.020\n",
      "Epoch: 0019 Avg. cost = 0.022\n",
      "Epoch: 0020 Avg. cost = 0.022\n",
      "Epoch: 0021 Avg. cost = 0.021\n",
      "Epoch: 0022 Avg. cost = 0.021\n",
      "Epoch: 0023 Avg. cost = 0.019\n",
      "Epoch: 0024 Avg. cost = 0.018\n",
      "Epoch: 0025 Avg. cost = 0.020\n",
      "Epoch: 0026 Avg. cost = 0.019\n",
      "Epoch: 0027 Avg. cost = 0.016\n",
      "Epoch: 0028 Avg. cost = 0.018\n",
      "Epoch: 0029 Avg. cost = 0.016\n",
      "Epoch: 0030 Avg. cost = 0.014\n",
      "Epoch: 0031 Avg. cost = 0.015\n",
      "Epoch: 0032 Avg. cost = 0.013\n",
      "Epoch: 0033 Avg. cost = 0.016\n",
      "Epoch: 0034 Avg. cost = 0.016\n",
      "Epoch: 0035 Avg. cost = 0.011\n",
      "Epoch: 0036 Avg. cost = 0.016\n",
      "Epoch: 0037 Avg. cost = 0.012\n",
      "Epoch: 0038 Avg. cost = 0.011\n",
      "Epoch: 0039 Avg. cost = 0.012\n",
      "Epoch: 0040 Avg. cost = 0.019\n",
      "Epoch: 0041 Avg. cost = 0.011\n",
      "Epoch: 0042 Avg. cost = 0.012\n",
      "Epoch: 0043 Avg. cost = 0.012\n",
      "Epoch: 0044 Avg. cost = 0.010\n",
      "Epoch: 0045 Avg. cost = 0.011\n",
      "Epoch: 0046 Avg. cost = 0.013\n",
      "Epoch: 0047 Avg. cost = 0.013\n",
      "Epoch: 0048 Avg. cost = 0.010\n",
      "Epoch: 0049 Avg. cost = 0.012\n",
      "Epoch: 0050 Avg. cost = 0.009\n",
      "Epoch: 0051 Avg. cost = 0.013\n",
      "Epoch: 0052 Avg. cost = 0.014\n",
      "Epoch: 0053 Avg. cost = 0.012\n",
      "Epoch: 0054 Avg. cost = 0.010\n",
      "Epoch: 0055 Avg. cost = 0.008\n",
      "Epoch: 0056 Avg. cost = 0.011\n",
      "Epoch: 0057 Avg. cost = 0.014\n",
      "Epoch: 0058 Avg. cost = 0.012\n",
      "Epoch: 0059 Avg. cost = 0.011\n",
      "Epoch: 0060 Avg. cost = 0.009\n",
      "Epoch: 0061 Avg. cost = 0.010\n",
      "Epoch: 0062 Avg. cost = 0.007\n",
      "Epoch: 0063 Avg. cost = 0.012\n",
      "Epoch: 0064 Avg. cost = 0.008\n",
      "Epoch: 0065 Avg. cost = 0.012\n",
      "Epoch: 0066 Avg. cost = 0.009\n",
      "Epoch: 0067 Avg. cost = 0.011\n",
      "Epoch: 0068 Avg. cost = 0.008\n",
      "Epoch: 0069 Avg. cost = 0.011\n",
      "Epoch: 0070 Avg. cost = 0.013\n",
      "Epoch: 0071 Avg. cost = 0.009\n",
      "Epoch: 0072 Avg. cost = 0.011\n",
      "Epoch: 0073 Avg. cost = 0.012\n",
      "Epoch: 0074 Avg. cost = 0.010\n",
      "Epoch: 0075 Avg. cost = 0.006\n",
      "Epoch: 0076 Avg. cost = 0.011\n",
      "Epoch: 0077 Avg. cost = 0.011\n",
      "Epoch: 0078 Avg. cost = 0.011\n",
      "Epoch: 0079 Avg. cost = 0.009\n",
      "Epoch: 0080 Avg. cost = 0.010\n",
      "Epoch: 0081 Avg. cost = 0.012\n",
      "Epoch: 0082 Avg. cost = 0.013\n",
      "Epoch: 0083 Avg. cost = 0.008\n",
      "Epoch: 0084 Avg. cost = 0.008\n",
      "Epoch: 0085 Avg. cost = 0.012\n",
      "Epoch: 0086 Avg. cost = 0.009\n",
      "Epoch: 0087 Avg. cost = 0.007\n",
      "Epoch: 0088 Avg. cost = 0.009\n",
      "Epoch: 0089 Avg. cost = 0.008\n",
      "Epoch: 0090 Avg. cost = 0.008\n",
      "Epoch: 0091 Avg. cost = 0.009\n",
      "Epoch: 0092 Avg. cost = 0.008\n",
      "Epoch: 0093 Avg. cost = 0.010\n",
      "Epoch: 0094 Avg. cost = 0.012\n",
      "Epoch: 0095 Avg. cost = 0.006\n",
      "Epoch: 0096 Avg. cost = 0.008\n",
      "Epoch: 0097 Avg. cost = 0.007\n",
      "Epoch: 0098 Avg. cost = 0.009\n",
      "Epoch: 0099 Avg. cost = 0.007\n",
      "Epoch: 0100 Avg. cost = 0.008\n",
      "Complete!\n"
     ]
    }
   ],
   "source": [
    "init = tf.global_variables_initializer()\n",
    "sess = tf.Session()\n",
    "sess.run(init)\n",
    "\n",
    "batch_size = 100\n",
    "total_batch = int(mnist.train.num_examples / batch_size)\n",
    "\n",
    "print('batch size : %s' % batch_size)\n",
    "print('total batch size : %s' % total_batch)\n",
    "\n",
    "for epoch in range(100):\n",
    "    total_cost = 0\n",
    "\n",
    "    for i in range(total_batch):\n",
    "        batch_xs, batch_ys = mnist.train.next_batch(batch_size)\n",
    "        _, cost_val = sess.run([opt, cost], feed_dict={X: batch_xs, Y: batch_ys, is_training: True})\n",
    "        total_cost += cost_val\n",
    "        \n",
    "    print('Epoch: %04d' % (epoch + 1), 'Avg. cost = {:.3f}'.format(total_cost/total_batch))\n",
    "\n",
    "print('Complete!')"
   ]
  },
  {
   "cell_type": "code",
   "execution_count": 5,
   "metadata": {},
   "outputs": [
    {
     "name": "stdout",
     "output_type": "stream",
     "text": [
      "Accuracy : 0.6798\n"
     ]
    }
   ],
   "source": [
    "is_correct = tf.equal(tf.argmax(model, axis=1), tf.argmax(Y, axis=1))\n",
    "accuracy = tf.reduce_mean(tf.cast(is_correct, tf.float32))\n",
    "print('Accuracy : %s' % sess.run(accuracy, \n",
    "                                 feed_dict={X: mnist.test.images, Y: mnist.test.labels, is_training: False}))"
   ]
  },
  {
   "cell_type": "markdown",
   "metadata": {},
   "source": [
    "# 특이사항\n",
    "\n",
    "- batch_normalization만 했을 때정확도가 70~80% 정도밖에 안됨..."
   ]
  }
 ],
 "metadata": {
  "kernelspec": {
   "display_name": "Python 3",
   "language": "python",
   "name": "python3"
  },
  "language_info": {
   "codemirror_mode": {
    "name": "ipython",
    "version": 3
   },
   "file_extension": ".py",
   "mimetype": "text/x-python",
   "name": "python",
   "nbconvert_exporter": "python",
   "pygments_lexer": "ipython3",
   "version": "3.6.5"
  }
 },
 "nbformat": 4,
 "nbformat_minor": 2
}
