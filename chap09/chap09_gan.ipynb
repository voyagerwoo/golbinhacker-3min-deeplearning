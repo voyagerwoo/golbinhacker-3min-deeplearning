{
 "cells": [
  {
   "cell_type": "markdown",
   "metadata": {},
   "source": [
    "# GAN Generative Adversarial Network\n",
    "\n",
    "- 서로 대립하는 두 신경망을 경쟁시켜 결과물을 생성하는 방법\n",
    "- 위조지폐범과 경찰의 비유\n",
    "\n",
    "\n",
    "1. 실제 이미지를 구분자(Disriminator)에게 이 이미지가 진짜인지 판단하게 함.\n",
    "2. 생성자(Generator)를 통해 노이즈로 부터 임의의 이미지를 만들고 이것을 다시 구분자에게 판단하게 함.\n",
    "이 둘을 반복하여 생성자는 구분자를 속여 최대한 진짜처럼 보이게 하고, 구분자는 최대한 진짜와 가짜를 구별하도록 훈련\n"
   ]
  },
  {
   "cell_type": "code",
   "execution_count": 1,
   "metadata": {},
   "outputs": [
    {
     "name": "stderr",
     "output_type": "stream",
     "text": [
      "/Users/yeomyeongwoo/anaconda3/lib/python3.6/site-packages/h5py/__init__.py:36: FutureWarning: Conversion of the second argument of issubdtype from `float` to `np.floating` is deprecated. In future, it will be treated as `np.float64 == np.dtype(float).type`.\n",
      "  from ._conv import register_converters as _register_converters\n"
     ]
    },
    {
     "name": "stdout",
     "output_type": "stream",
     "text": [
      "WARNING:tensorflow:From /Users/yeomyeongwoo/anaconda3/lib/python3.6/site-packages/tensorflow/contrib/learn/python/learn/datasets/base.py:198: retry (from tensorflow.contrib.learn.python.learn.datasets.base) is deprecated and will be removed in a future version.\n",
      "Instructions for updating:\n",
      "Use the retry module or similar alternatives.\n",
      "WARNING:tensorflow:From <ipython-input-1-35b75f963996>:6: read_data_sets (from tensorflow.contrib.learn.python.learn.datasets.mnist) is deprecated and will be removed in a future version.\n",
      "Instructions for updating:\n",
      "Please use alternatives such as official/mnist/dataset.py from tensorflow/models.\n",
      "WARNING:tensorflow:From /Users/yeomyeongwoo/anaconda3/lib/python3.6/site-packages/tensorflow/contrib/learn/python/learn/datasets/mnist.py:260: maybe_download (from tensorflow.contrib.learn.python.learn.datasets.base) is deprecated and will be removed in a future version.\n",
      "Instructions for updating:\n",
      "Please write your own downloading logic.\n",
      "WARNING:tensorflow:From /Users/yeomyeongwoo/anaconda3/lib/python3.6/site-packages/tensorflow/contrib/learn/python/learn/datasets/mnist.py:262: extract_images (from tensorflow.contrib.learn.python.learn.datasets.mnist) is deprecated and will be removed in a future version.\n",
      "Instructions for updating:\n",
      "Please use tf.data to implement this functionality.\n",
      "Extracting ./mnist/data/train-images-idx3-ubyte.gz\n",
      "WARNING:tensorflow:From /Users/yeomyeongwoo/anaconda3/lib/python3.6/site-packages/tensorflow/contrib/learn/python/learn/datasets/mnist.py:267: extract_labels (from tensorflow.contrib.learn.python.learn.datasets.mnist) is deprecated and will be removed in a future version.\n",
      "Instructions for updating:\n",
      "Please use tf.data to implement this functionality.\n",
      "Extracting ./mnist/data/train-labels-idx1-ubyte.gz\n",
      "WARNING:tensorflow:From /Users/yeomyeongwoo/anaconda3/lib/python3.6/site-packages/tensorflow/contrib/learn/python/learn/datasets/mnist.py:110: dense_to_one_hot (from tensorflow.contrib.learn.python.learn.datasets.mnist) is deprecated and will be removed in a future version.\n",
      "Instructions for updating:\n",
      "Please use tf.one_hot on tensors.\n",
      "Extracting ./mnist/data/t10k-images-idx3-ubyte.gz\n",
      "Extracting ./mnist/data/t10k-labels-idx1-ubyte.gz\n",
      "WARNING:tensorflow:From /Users/yeomyeongwoo/anaconda3/lib/python3.6/site-packages/tensorflow/contrib/learn/python/learn/datasets/mnist.py:290: DataSet.__init__ (from tensorflow.contrib.learn.python.learn.datasets.mnist) is deprecated and will be removed in a future version.\n",
      "Instructions for updating:\n",
      "Please use alternatives such as official/mnist/dataset.py from tensorflow/models.\n"
     ]
    }
   ],
   "source": [
    "import tensorflow as tf\n",
    "import numpy as np\n",
    "import matplotlib.pyplot as plt\n",
    "\n",
    "from tensorflow.examples.tutorials.mnist import input_data\n",
    "mnist = input_data.read_data_sets(\"./mnist/data/\", one_hot=True)"
   ]
  },
  {
   "cell_type": "code",
   "execution_count": 2,
   "metadata": {},
   "outputs": [],
   "source": [
    "# 하이퍼 파라미터 따로 빼기\n",
    "total_epoch = 100\n",
    "batch_size = 100\n",
    "learning_rate = 0.0002\n",
    "n_hidden = 256\n",
    "n_input = 28*28\n",
    "n_noise = 128"
   ]
  },
  {
   "cell_type": "code",
   "execution_count": 3,
   "metadata": {},
   "outputs": [],
   "source": [
    "X = tf.placeholder(tf.float32, [None, n_input])\n",
    "Z = tf.placeholder(tf.float32, [None, n_noise])"
   ]
  },
  {
   "cell_type": "code",
   "execution_count": 4,
   "metadata": {},
   "outputs": [
    {
     "name": "stdout",
     "output_type": "stream",
     "text": [
      "<tf.Variable 'Variable:0' shape=(128, 256) dtype=float32_ref>\n"
     ]
    }
   ],
   "source": [
    "# 생성자 Generator\n",
    "G_W1 = tf.Variable(tf.random_normal([n_noise, n_hidden], stddev=0.01))\n",
    "print(G_W1)\n",
    "G_b1 = tf.Variable(tf.zeros([n_hidden]))\n",
    "G_W2 = tf.Variable(tf.random_normal([n_hidden, n_input], stddev=0.01))\n",
    "G_b2 = tf.Variable(tf.zeros([n_input]))"
   ]
  },
  {
   "cell_type": "code",
   "execution_count": 5,
   "metadata": {},
   "outputs": [],
   "source": [
    "# Discriminator\n",
    "D_W1 = tf.Variable(tf.random_normal([n_input, n_hidden], stddev=0.01))\n",
    "D_b1 = tf.Variable(tf.zeros([n_hidden]))\n",
    "D_W2 = tf.Variable(tf.random_normal([n_hidden, 1], stddev=0.01))\n",
    "D_b2 = tf.Variable(tf.zeros([1]))"
   ]
  },
  {
   "cell_type": "code",
   "execution_count": 6,
   "metadata": {},
   "outputs": [],
   "source": [
    "def generator(noise_z):\n",
    "    hidden = tf.nn.relu(tf.matmul(noise_z, G_W1) + G_b1)\n",
    "    output = tf.nn.sigmoid(tf.matmul(hidden, G_W2) + G_b2)\n",
    "    return output"
   ]
  },
  {
   "cell_type": "code",
   "execution_count": 7,
   "metadata": {},
   "outputs": [],
   "source": [
    "def discriminator(inputs):\n",
    "    hidden = tf.nn.relu(tf.matmul(inputs, D_W1) + D_b1)\n",
    "    output = tf.nn.sigmoid(tf.matmul(hidden, D_W2) + D_b2)\n",
    "    return output"
   ]
  },
  {
   "cell_type": "code",
   "execution_count": 14,
   "metadata": {},
   "outputs": [],
   "source": [
    "def get_noise(batch_size, n_noise):\n",
    "    return np.random.normal(size=(batch_size, n_noise))"
   ]
  },
  {
   "cell_type": "code",
   "execution_count": 15,
   "metadata": {},
   "outputs": [],
   "source": [
    "G = generator(Z)\n",
    "D_gene = discriminator(G)\n",
    "D_real = discriminator(X)"
   ]
  },
  {
   "cell_type": "code",
   "execution_count": 16,
   "metadata": {},
   "outputs": [],
   "source": [
    "loss_D = tf.reduce_mean(tf.log(D_real) + tf.log(1 - D_gene))\n",
    "loss_G = tf.reduce_mean(tf.log(D_gene))"
   ]
  },
  {
   "cell_type": "code",
   "execution_count": 17,
   "metadata": {},
   "outputs": [],
   "source": [
    "D_var_list = [D_W1, D_b1, D_W2, D_b2]\n",
    "G_var_list = [G_W1, G_b1, G_W2, G_b2]"
   ]
  },
  {
   "cell_type": "code",
   "execution_count": 18,
   "metadata": {},
   "outputs": [],
   "source": [
    "train_D = tf.train.AdamOptimizer(learning_rate).minimize(-loss_D, var_list=D_var_list)\n",
    "train_G = tf.train.AdamOptimizer(learning_rate).minimize(-loss_G, var_list=G_var_list)"
   ]
  },
  {
   "cell_type": "code",
   "execution_count": 28,
   "metadata": {},
   "outputs": [
    {
     "name": "stdout",
     "output_type": "stream",
     "text": [
      "Epoch: 0001 D loss : -0.5877 G loss : -2.0141\n",
      "Epoch: 0002 D loss : -0.2752 G loss : -2.5837\n",
      "Epoch: 0003 D loss : -0.1684 G loss : -3.0263\n",
      "Epoch: 0004 D loss : -0.4188 G loss : -1.7185\n",
      "Epoch: 0005 D loss : -0.2748 G loss : -2.0361\n",
      "Epoch: 0006 D loss : -0.2785 G loss : -2.6209\n",
      "Epoch: 0007 D loss : -0.1306 G loss : -3.0597\n",
      "Epoch: 0008 D loss : -0.2035 G loss : -2.5873\n",
      "Epoch: 0009 D loss : -0.3275 G loss : -2.8343\n",
      "Epoch: 0010 D loss : -0.2203 G loss : -2.6602\n",
      "Epoch: 0011 D loss : -0.2475 G loss : -2.9248\n",
      "Epoch: 0012 D loss : -0.2566 G loss : -2.6139\n",
      "Epoch: 0013 D loss : -0.2606 G loss : -2.7115\n",
      "Epoch: 0014 D loss : -0.2235 G loss : -3.0715\n",
      "Epoch: 0015 D loss : -0.2752 G loss : -2.9814\n",
      "Epoch: 0016 D loss : -0.4009 G loss : -2.5729\n",
      "Epoch: 0017 D loss : -0.3948 G loss : -2.9074\n",
      "Epoch: 0018 D loss : -0.4249 G loss : -2.5780\n",
      "Epoch: 0019 D loss : -0.4483 G loss : -2.3775\n",
      "Epoch: 0020 D loss : -0.3129 G loss : -2.7017\n",
      "Epoch: 0021 D loss : -0.3869 G loss : -2.7388\n",
      "Epoch: 0022 D loss : -0.3643 G loss : -2.6132\n",
      "Epoch: 0023 D loss : -0.3012 G loss : -2.6250\n",
      "Epoch: 0024 D loss : -0.2990 G loss : -3.2036\n",
      "Epoch: 0025 D loss : -0.3719 G loss : -2.8874\n",
      "Epoch: 0026 D loss : -0.2892 G loss : -3.0810\n",
      "Epoch: 0027 D loss : -0.3663 G loss : -2.7458\n",
      "Epoch: 0028 D loss : -0.3724 G loss : -3.0910\n",
      "Epoch: 0029 D loss : -0.3064 G loss : -3.1962\n",
      "Epoch: 0030 D loss : -0.4069 G loss : -3.2051\n",
      "Epoch: 0031 D loss : -0.4122 G loss : -2.8761\n",
      "Epoch: 0032 D loss : -0.4549 G loss : -2.8423\n",
      "Epoch: 0033 D loss : -0.5139 G loss : -2.8493\n",
      "Epoch: 0034 D loss : -0.4613 G loss : -2.5054\n",
      "Epoch: 0035 D loss : -0.3448 G loss : -3.1304\n",
      "Epoch: 0036 D loss : -0.4457 G loss : -2.4807\n",
      "Epoch: 0037 D loss : -0.3639 G loss : -2.9918\n",
      "Epoch: 0038 D loss : -0.4423 G loss : -2.8825\n",
      "Epoch: 0039 D loss : -0.3974 G loss : -2.7830\n",
      "Epoch: 0040 D loss : -0.4652 G loss : -2.8124\n",
      "Epoch: 0041 D loss : -0.5116 G loss : -2.8598\n",
      "Epoch: 0042 D loss : -0.3999 G loss : -2.7517\n",
      "Epoch: 0043 D loss : -0.6226 G loss : -2.3121\n",
      "Epoch: 0044 D loss : -0.6527 G loss : -2.5587\n",
      "Epoch: 0045 D loss : -0.3433 G loss : -2.7815\n",
      "Epoch: 0046 D loss : -0.5125 G loss : -2.4880\n",
      "Epoch: 0047 D loss : -0.4328 G loss : -2.6239\n",
      "Epoch: 0048 D loss : -0.4223 G loss : -2.5415\n",
      "Epoch: 0049 D loss : -0.5434 G loss : -2.5315\n",
      "Epoch: 0050 D loss : -0.3597 G loss : -3.0234\n",
      "Epoch: 0051 D loss : -0.5021 G loss : -2.5844\n",
      "Epoch: 0052 D loss : -0.5541 G loss : -2.5010\n",
      "Epoch: 0053 D loss : -0.6212 G loss : -2.5304\n",
      "Epoch: 0054 D loss : -0.5603 G loss : -2.2767\n",
      "Epoch: 0055 D loss : -0.4892 G loss : -2.3627\n",
      "Epoch: 0056 D loss : -0.6920 G loss : -2.3483\n",
      "Epoch: 0057 D loss : -0.5949 G loss : -2.2249\n",
      "Epoch: 0058 D loss : -0.6729 G loss : -2.1971\n",
      "Epoch: 0059 D loss : -0.7205 G loss : -2.2153\n",
      "Epoch: 0060 D loss : -0.8613 G loss : -1.9700\n",
      "Epoch: 0061 D loss : -0.5518 G loss : -2.4550\n",
      "Epoch: 0062 D loss : -0.5675 G loss : -2.3118\n",
      "Epoch: 0063 D loss : -0.6680 G loss : -2.2391\n",
      "Epoch: 0064 D loss : -0.7468 G loss : -1.8384\n",
      "Epoch: 0065 D loss : -0.6026 G loss : -2.3398\n",
      "Epoch: 0066 D loss : -0.6253 G loss : -2.4252\n",
      "Epoch: 0067 D loss : -0.5417 G loss : -2.2615\n",
      "Epoch: 0068 D loss : -0.6161 G loss : -2.4908\n",
      "Epoch: 0069 D loss : -0.7174 G loss : -2.0804\n",
      "Epoch: 0070 D loss : -0.7294 G loss : -2.1832\n",
      "Epoch: 0071 D loss : -0.5930 G loss : -2.4340\n",
      "Epoch: 0072 D loss : -0.5858 G loss : -2.2851\n",
      "Epoch: 0073 D loss : -0.6895 G loss : -2.2686\n",
      "Epoch: 0074 D loss : -0.6397 G loss : -2.1028\n",
      "Epoch: 0075 D loss : -0.6778 G loss : -2.2566\n",
      "Epoch: 0076 D loss : -0.5874 G loss : -2.2549\n",
      "Epoch: 0077 D loss : -0.7266 G loss : -2.0257\n",
      "Epoch: 0078 D loss : -0.7092 G loss : -2.4213\n",
      "Epoch: 0079 D loss : -0.6703 G loss : -1.9459\n",
      "Epoch: 0080 D loss : -0.6375 G loss : -2.3308\n",
      "Epoch: 0081 D loss : -0.7650 G loss : -2.0719\n",
      "Epoch: 0082 D loss : -0.6239 G loss : -2.1653\n",
      "Epoch: 0083 D loss : -0.6661 G loss : -2.1701\n",
      "Epoch: 0084 D loss : -0.7142 G loss : -2.1222\n",
      "Epoch: 0085 D loss : -0.5571 G loss : -2.3244\n",
      "Epoch: 0086 D loss : -0.6611 G loss : -2.1279\n",
      "Epoch: 0087 D loss : -0.7268 G loss : -1.8816\n",
      "Epoch: 0088 D loss : -0.6190 G loss : -2.1806\n",
      "Epoch: 0089 D loss : -0.7143 G loss : -2.0533\n",
      "Epoch: 0090 D loss : -0.6095 G loss : -2.3690\n",
      "Epoch: 0091 D loss : -0.5650 G loss : -2.1651\n",
      "Epoch: 0092 D loss : -0.5583 G loss : -2.3589\n",
      "Epoch: 0093 D loss : -0.6357 G loss : -2.1968\n",
      "Epoch: 0094 D loss : -0.6095 G loss : -2.1870\n",
      "Epoch: 0095 D loss : -0.7527 G loss : -2.1994\n",
      "Epoch: 0096 D loss : -0.4796 G loss : -2.3986\n",
      "Epoch: 0097 D loss : -0.5635 G loss : -2.3121\n",
      "Epoch: 0098 D loss : -0.5541 G loss : -2.0935\n",
      "Epoch: 0099 D loss : -0.6180 G loss : -2.2038\n",
      "Epoch: 0100 D loss : -0.6252 G loss : -2.3482\n"
     ]
    },
    {
     "ename": "NameError",
     "evalue": "name 'complete' is not defined",
     "output_type": "error",
     "traceback": [
      "\u001b[0;31m---------------------------------------------------------------------------\u001b[0m",
      "\u001b[0;31mNameError\u001b[0m                                 Traceback (most recent call last)",
      "\u001b[0;32m<ipython-input-28-7ec7b2a9f919>\u001b[0m in \u001b[0;36m<module>\u001b[0;34m()\u001b[0m\n\u001b[1;32m     32\u001b[0m         \u001b[0mplt\u001b[0m\u001b[0;34m.\u001b[0m\u001b[0mclose\u001b[0m\u001b[0;34m(\u001b[0m\u001b[0mfig\u001b[0m\u001b[0;34m)\u001b[0m\u001b[0;34m\u001b[0m\u001b[0m\n\u001b[1;32m     33\u001b[0m \u001b[0;34m\u001b[0m\u001b[0m\n\u001b[0;32m---> 34\u001b[0;31m \u001b[0mprint\u001b[0m\u001b[0;34m(\u001b[0m\u001b[0mcomplete\u001b[0m\u001b[0;34m)\u001b[0m\u001b[0;34m\u001b[0m\u001b[0m\n\u001b[0m",
      "\u001b[0;31mNameError\u001b[0m: name 'complete' is not defined"
     ]
    }
   ],
   "source": [
    "sess = tf.Session()\n",
    "sess.run(tf.global_variables_initializer())\n",
    "\n",
    "total_batch = int(mnist.train.num_examples / batch_size)\n",
    "loss_val_D, loss_val_G = 0, 0\n",
    "\n",
    "for epoch in range(total_epoch):\n",
    "    for i in range(total_batch):\n",
    "        batch_xs, batch_ys = mnist.train.next_batch(batch_size)\n",
    "        noise = get_noise(batch_size, n_noise)\n",
    "        \n",
    "        _, loss_val_D = sess.run([train_D, loss_D], feed_dict={X: batch_xs, Z: noise})\n",
    "        _, loss_val_G = sess.run([train_G, loss_G], feed_dict={Z: noise})\n",
    "    \n",
    "    epoch_str = '{:04d}'.format(epoch + 1)\n",
    "    loss_d = '{:.4f}'.format(loss_val_D)\n",
    "    loss_g = '{:.4f}'.format(loss_val_G)\n",
    "    print(f'Epoch: {epoch_str} D loss : {loss_d} G loss : {loss_g}')\n",
    "    \n",
    "    if epoch == 0 or (epoch + 1) % 10 == 0:\n",
    "        sample_size = 10\n",
    "        noise = get_noise(sample_size, n_noise)\n",
    "        samples = sess.run(G, feed_dict={Z: noise})\n",
    "        \n",
    "        fig, ax = plt.subplots(1, sample_size, figsize=(sample_size, 1))\n",
    "        \n",
    "        for i in range(sample_size):\n",
    "            ax[i].set_axis_off()\n",
    "            ax[i].imshow(np.reshape(samples[i], (28, 28)))\n",
    "        \n",
    "        plt.savefig('samples/{}.png'.format(str(epoch).zfill(3)), bbox_inches='tight')\n",
    "        plt.close(fig)\n",
    "    \n",
    "print(complete)"
   ]
  },
  {
   "cell_type": "code",
   "execution_count": null,
   "metadata": {},
   "outputs": [],
   "source": []
  }
 ],
 "metadata": {
  "kernelspec": {
   "display_name": "Python 3",
   "language": "python",
   "name": "python3"
  },
  "language_info": {
   "codemirror_mode": {
    "name": "ipython",
    "version": 3
   },
   "file_extension": ".py",
   "mimetype": "text/x-python",
   "name": "python",
   "nbconvert_exporter": "python",
   "pygments_lexer": "ipython3",
   "version": "3.6.4"
  }
 },
 "nbformat": 4,
 "nbformat_minor": 2
}
